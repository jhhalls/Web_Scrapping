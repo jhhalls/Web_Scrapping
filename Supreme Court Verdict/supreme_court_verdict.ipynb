{
 "cells": [
  {
   "cell_type": "code",
   "execution_count": 2,
   "id": "e1e544ae",
   "metadata": {},
   "outputs": [
    {
     "data": {
      "text/html": [
       "<style>.container { width:100% !important; }</style>"
      ],
      "text/plain": [
       "<IPython.core.display.HTML object>"
      ]
     },
     "metadata": {},
     "output_type": "display_data"
    }
   ],
   "source": [
    "from IPython.core.display import display, HTML\n",
    "display(HTML(\"<style>.container { width:100% !important; }</style>\"))"
   ]
  },
  {
   "cell_type": "code",
   "execution_count": 18,
   "id": "96b7f62d",
   "metadata": {},
   "outputs": [],
   "source": [
    "import requests\n",
    "import selenium\n",
    "from selenium import webdriver\n",
    "from selenium.webdriver.chrome.service import Service\n",
    "from webdriver_manager.chrome import ChromeDriverManager\n",
    "from selenium.webdriver.support.ui import WebDriverWait\n",
    "from selenium.webdriver.support import expected_conditions as EC\n",
    "from selenium.webdriver.common.by import By\n",
    "from selenium.webdriver.common.keys import Keys\n",
    "from bs4 import BeautifulSoup\n",
    "import time\n",
    "from io import BytesIO\n",
    "from PIL import Image\n",
    "import base64\n",
    "from pytesseract import pytesseract"
   ]
  },
  {
   "cell_type": "code",
   "execution_count": 4,
   "id": "ea9396ba",
   "metadata": {
    "scrolled": true
   },
   "outputs": [
    {
     "name": "stderr",
     "output_type": "stream",
     "text": [
      "\n",
      "\n",
      "====== WebDriver manager ======\n",
      "Current google-chrome version is 102.0.5005\n",
      "Get LATEST chromedriver version for 102.0.5005 google-chrome\n",
      "Trying to download new driver from https://chromedriver.storage.googleapis.com/102.0.5005.61/chromedriver_win32.zip\n",
      "Driver has been saved in cache [C:\\Users\\fujistu\\.wdm\\drivers\\chromedriver\\win32\\102.0.5005.61]\n"
     ]
    }
   ],
   "source": [
    "s=Service(ChromeDriverManager().install())"
   ]
  },
  {
   "cell_type": "markdown",
   "id": "4bcdaf77",
   "metadata": {},
   "source": [
    "# testing the captcha"
   ]
  },
  {
   "cell_type": "code",
   "execution_count": 7,
   "id": "52f2798d",
   "metadata": {},
   "outputs": [],
   "source": [
    "# Launch the browser\n",
    "driver = webdriver.Chrome(service=s)\n",
    "# maximise the window\n",
    "driver.maximize_window()\n",
    "# define the url\n",
    "url = 'https://main.sci.gov.in/judgments'\n",
    "# open the url in chrome\n",
    "driver.get(url)\n",
    "# ------------------------------GET the Captcha -------------------------------\n",
    "elem = driver.find_element(By.XPATH, '//*[@id=\"cap\"]/font')\n",
    "# locate the captcha\n",
    "location = elem.location\n",
    "size = elem.size\n",
    "left = location['x']\n",
    "top   = location['y']\n",
    "width = size['width']\n",
    "height = size['height']\n",
    "box = (int(left), int(top), int(left+width), int(top+height))\n",
    "screenshot = driver.get_screenshot_as_base64()\n",
    "img = Image.open(BytesIO(base64.b64decode(screenshot)))\n",
    "area = img.crop(box)\n",
    "area.save('captcha1.png', 'PNG')\n",
    "# read_captcha = cv2.imread()\n",
    "\n",
    "path_to_tesseract = r'C:\\Program Files\\Tesseract-OCR\\tesseract.exe'  \n",
    "pytesseract.tesseract_cmd = path_to_tesseract\n",
    "path_to_image = r'captcha1.png'\n",
    "captcha_image = Image.open(path_to_image)\n",
    "text = pytesseract.image_to_string(captcha_image)\n",
    "# print(text)\n",
    "\n",
    "captcha_input = driver.find_element(By.XPATH, '//*[@id=\"ansCaptcha\"]')\n",
    "captcha_input.send_keys(text)"
   ]
  },
  {
   "cell_type": "markdown",
   "id": "c0a466bf",
   "metadata": {},
   "source": [
    "## working code with results displayed"
   ]
  },
  {
   "cell_type": "code",
   "execution_count": 13,
   "id": "26111e48",
   "metadata": {},
   "outputs": [],
   "source": [
    "# Launch the browser\n",
    "driver = webdriver.Chrome(service=s)\n",
    "# maximise the window\n",
    "driver.maximize_window()\n",
    "# define the url\n",
    "url = 'https://main.sci.gov.in/judgments'\n",
    "# open the url in chrome\n",
    "driver.get(url)\n",
    "# select Judgement Date from the top menu\n",
    "judgement_date = driver.find_element(By.XPATH , '//*[@id=\"tabbed-nav\"]/ul[2]/li[3]/a' )\n",
    "judgement_date.click()\n",
    "# start date\n",
    "start_date = driver.find_element(By.XPATH, '//*[@id=\"JBJfrom_date\"]')\n",
    "time.sleep(1)\n",
    "start_date.send_keys(Keys.CONTROL + \"a\")\n",
    "start_date.send_keys(Keys.DELETE)\n",
    "start_date.send_keys(\"12-06-2021\")\n",
    "# end date\n",
    "end_date = driver.find_element(By.XPATH, '//*[@id=\"JBJto_date\"]')\n",
    "end_date.send_keys(Keys.CONTROL + \"a\")\n",
    "end_date.send_keys(Keys.DELETE)\n",
    "end_date.send_keys('12-05-2022')\n",
    "\n",
    "# ------------------------------GET the Captcha -------------------------------\n",
    "elem = driver.find_element(By.XPATH, '//*[@id=\"cap\"]/font')\n",
    "# locate the captcha\n",
    "location = elem.location\n",
    "size = elem.size\n",
    "left = location['x']\n",
    "top   = location['y']\n",
    "width = size['width']\n",
    "height = size['height']\n",
    "box = (int(left), int(top), int(left+width), int(top+height))\n",
    "screenshot = driver.get_screenshot_as_base64()\n",
    "img = Image.open(BytesIO(base64.b64decode(screenshot)))\n",
    "area = img.crop(box)\n",
    "area.save('captcha1.png', 'PNG')\n",
    "# read_captcha = cv2.imread()\n",
    "\n",
    "path_to_tesseract = r'C:\\Program Files\\Tesseract-OCR\\tesseract.exe'  \n",
    "pytesseract.tesseract_cmd = path_to_tesseract\n",
    "path_to_image = r'captcha1.png'\n",
    "captcha_image = Image.open(path_to_image)\n",
    "text = pytesseract.image_to_string(captcha_image)\n",
    "# print(text)\n",
    "\n",
    "captcha_input = driver.find_element(By.XPATH, '//*[@id=\"ansCaptcha\"]')\n",
    "captcha_input.send_keys(text)\n",
    "\n",
    "\n",
    "\n",
    "# submit button\n",
    "submit = driver.find_element(By.XPATH, '//*[@id=\"v_getJBJ\"]')\n",
    "submit.click()\n",
    "\n",
    "# driver.close()"
   ]
  }
 ],
 "metadata": {
  "kernelspec": {
   "display_name": "Python 3",
   "language": "python",
   "name": "python3"
  },
  "language_info": {
   "codemirror_mode": {
    "name": "ipython",
    "version": 3
   },
   "file_extension": ".py",
   "mimetype": "text/x-python",
   "name": "python",
   "nbconvert_exporter": "python",
   "pygments_lexer": "ipython3",
   "version": "3.8.8"
  }
 },
 "nbformat": 4,
 "nbformat_minor": 5
}
