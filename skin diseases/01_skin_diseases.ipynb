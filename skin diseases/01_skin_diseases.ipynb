{
 "cells": [
  {
   "cell_type": "code",
   "execution_count": 1,
   "id": "5517b9b1",
   "metadata": {},
   "outputs": [
    {
     "data": {
      "text/html": [
       "<style>.container { width:100% !important; }</style>"
      ],
      "text/plain": [
       "<IPython.core.display.HTML object>"
      ]
     },
     "metadata": {},
     "output_type": "display_data"
    }
   ],
   "source": [
    "from IPython.core.display import display, HTML\n",
    "display(HTML(\"<style>.container { width:100% !important; }</style>\"))"
   ]
  },
  {
   "cell_type": "code",
   "execution_count": 2,
   "id": "da2d1062",
   "metadata": {},
   "outputs": [],
   "source": [
    "import requests\n",
    "import selenium\n",
    "from selenium import webdriver\n",
    "from selenium.webdriver.chrome.service import Service\n",
    "from webdriver_manager.chrome import ChromeDriverManager\n",
    "from selenium.webdriver.support.ui import WebDriverWait\n",
    "from selenium.webdriver.support import expected_conditions as EC\n",
    "from selenium.webdriver.common.by import By\n",
    "from selenium.webdriver.common.keys import Keys\n",
    "from bs4 import BeautifulSoup\n",
    "import time\n",
    "import urllib\n",
    "import os\n",
    "from PIL import Image\n",
    "from io import StringIO\n",
    "import pandas as pd"
   ]
  },
  {
   "cell_type": "code",
   "execution_count": 3,
   "id": "097616b5",
   "metadata": {},
   "outputs": [
    {
     "name": "stderr",
     "output_type": "stream",
     "text": [
      "\n",
      "\n",
      "====== WebDriver manager ======\n",
      "Current google-chrome version is 103.0.5060\n",
      "Get LATEST chromedriver version for 103.0.5060 google-chrome\n",
      "Trying to download new driver from https://chromedriver.storage.googleapis.com/103.0.5060.53/chromedriver_win32.zip\n",
      "Driver has been saved in cache [C:\\Users\\fujistu\\.wdm\\drivers\\chromedriver\\win32\\103.0.5060.53]\n"
     ]
    }
   ],
   "source": [
    "s=Service(ChromeDriverManager().install())"
   ]
  },
  {
   "cell_type": "markdown",
   "id": "0f593b2c",
   "metadata": {},
   "source": [
    "# Scrapping the data"
   ]
  },
  {
   "cell_type": "code",
   "execution_count": 4,
   "id": "96224822",
   "metadata": {},
   "outputs": [],
   "source": [
    "# Launch the browser\n",
    "driver = webdriver.Chrome(service=s)\n",
    "# maximise the window\n",
    "driver.maximize_window()\n",
    "# define the url\n",
    "url = 'https://dermnetnz.org/image-library/'\n",
    "# open the url in chrome\n",
    "driver.get(url)\n",
    "\n",
    "name = []\n",
    "url = []\n",
    "img = []\n",
    "time.sleep(4)\n",
    "\n",
    "# Find all the names by their class names\n",
    "name_elements = driver.find_elements(By.CLASS_NAME, 'imageList__group__item__copy')\n",
    "\n",
    "# find all the urls with their class name\n",
    "elem = driver.find_elements(By.CLASS_NAME, 'imageList__group__item')\n",
    "\n",
    "# image source\n",
    "img_src = driver.find_elements(By.TAG_NAME, 'img')\n",
    "\n",
    "# extract the names from their elements\n",
    "for i in name_elements:\n",
    "    name.append(i.text)\n",
    "    \n",
    "# extract the url\n",
    "for i in elem:\n",
    "    l = i.get_attribute(\"href\")\n",
    "    url.append(l)\n",
    "\n",
    "# get the source url of each image\n",
    "for i in img_src:\n",
    "    k = i.get_attribute('src')\n",
    "    img.append(k)\n",
    "\n",
    "# removing all the extra images extracted\n",
    "final_images_src = img[1:len(name)+1]\n",
    "\n",
    "# create a new directory in the current directory if it does not exist\n",
    "# os.mkdir('images') \n",
    "\n",
    "# Download the images\n",
    "for i in range(len(final_images_src)):\n",
    "    r1 = requests.get(final_images_src[i]).content\n",
    "    with open(str(name[i].replace('/', ' ').replace(' ', '_'))+'.jpg','wb') as f:\n",
    "        f.write(r1)\n",
    "#     time.sleep(2)\n",
    "        \n",
    "        \n",
    "driver.close()"
   ]
  },
  {
   "cell_type": "markdown",
   "id": "37a1943f",
   "metadata": {},
   "source": [
    "# Creating the Dataframe"
   ]
  },
  {
   "cell_type": "code",
   "execution_count": 5,
   "id": "d621b5a6",
   "metadata": {},
   "outputs": [
    {
     "data": {
      "text/plain": [
       "(294, 294, 294)"
      ]
     },
     "execution_count": 5,
     "metadata": {},
     "output_type": "execute_result"
    }
   ],
   "source": [
    "len(name), len(url), len(final_images_src)"
   ]
  },
  {
   "cell_type": "code",
   "execution_count": 6,
   "id": "f4f9af31",
   "metadata": {},
   "outputs": [],
   "source": [
    "df = pd.DataFrame({'Disease':name,\n",
    "            'Disease_URL': url,\n",
    "            'thumbnail_URL' : final_images_src})"
   ]
  },
  {
   "cell_type": "code",
   "execution_count": 7,
   "id": "cdbc8d81",
   "metadata": {},
   "outputs": [
    {
     "data": {
      "text/html": [
       "<div>\n",
       "<style scoped>\n",
       "    .dataframe tbody tr th:only-of-type {\n",
       "        vertical-align: middle;\n",
       "    }\n",
       "\n",
       "    .dataframe tbody tr th {\n",
       "        vertical-align: top;\n",
       "    }\n",
       "\n",
       "    .dataframe thead th {\n",
       "        text-align: right;\n",
       "    }\n",
       "</style>\n",
       "<table border=\"1\" class=\"dataframe\">\n",
       "  <thead>\n",
       "    <tr style=\"text-align: right;\">\n",
       "      <th></th>\n",
       "      <th>Disease</th>\n",
       "      <th>Disease_URL</th>\n",
       "      <th>thumbnail_URL</th>\n",
       "    </tr>\n",
       "  </thead>\n",
       "  <tbody>\n",
       "    <tr>\n",
       "      <th>0</th>\n",
       "      <td>Acne affecting the back images</td>\n",
       "      <td>https://dermnetnz.org/topics/acne-affecting-th...</td>\n",
       "      <td>https://dermnetnz.org/assets/manualthumbnails/...</td>\n",
       "    </tr>\n",
       "    <tr>\n",
       "      <th>1</th>\n",
       "      <td>Acne affecting the face images</td>\n",
       "      <td>https://dermnetnz.org/topics/acne-face-images</td>\n",
       "      <td>https://dermnetnz.org/assets/Uploads/Screen-Sh...</td>\n",
       "    </tr>\n",
       "    <tr>\n",
       "      <th>2</th>\n",
       "      <td>Acne and other follicular disorder images</td>\n",
       "      <td>https://dermnetnz.org/image-catalogue/acne-and...</td>\n",
       "      <td>https://dermnetnz.org/assets/Uploads/ocular-ro...</td>\n",
       "    </tr>\n",
       "    <tr>\n",
       "      <th>3</th>\n",
       "      <td>Acquired dermal macular hyperpigmentation images</td>\n",
       "      <td>https://dermnetnz.org/topics/acquired-dermal-m...</td>\n",
       "      <td>https://dermnetnz.org/assets/Uploads/scaly/lp-...</td>\n",
       "    </tr>\n",
       "    <tr>\n",
       "      <th>4</th>\n",
       "      <td>Acral lentiginous melanoma images</td>\n",
       "      <td>https://dermnetnz.org/topics/acral-lentiginous...</td>\n",
       "      <td>https://dermnetnz.org/assets/Uploads/20160516-...</td>\n",
       "    </tr>\n",
       "    <tr>\n",
       "      <th>...</th>\n",
       "      <td>...</td>\n",
       "      <td>...</td>\n",
       "      <td>...</td>\n",
       "    </tr>\n",
       "    <tr>\n",
       "      <th>289</th>\n",
       "      <td>Vulval lichen sclerosus images</td>\n",
       "      <td>https://dermnetnz.org/topics/vulval-lichen-scl...</td>\n",
       "      <td>https://dermnetnz.org/assets/Uploads/074__Focu...</td>\n",
       "    </tr>\n",
       "    <tr>\n",
       "      <th>290</th>\n",
       "      <td>Vulval ulcer images</td>\n",
       "      <td>https://dermnetnz.org/topics/vulval-ulcer-images</td>\n",
       "      <td>https://dermnetnz.org/assets/Uploads/vulval-ul...</td>\n",
       "    </tr>\n",
       "    <tr>\n",
       "      <th>291</th>\n",
       "      <td>Vulvovaginal candidiasis images</td>\n",
       "      <td>https://dermnetnz.org/topics/vulvovaginal-cand...</td>\n",
       "      <td>https://dermnetnz.org/assets/Uploads/candida2-...</td>\n",
       "    </tr>\n",
       "    <tr>\n",
       "      <th>292</th>\n",
       "      <td>Xanthelasma images</td>\n",
       "      <td>https://dermnetnz.org/topics/xanthelasma-images</td>\n",
       "      <td>https://dermnetnz.org/assets/Uploads/xanthelas...</td>\n",
       "    </tr>\n",
       "    <tr>\n",
       "      <th>293</th>\n",
       "      <td>Xeroderma pigmentosum images</td>\n",
       "      <td>https://dermnetnz.org/topics/xeroderma-pigment...</td>\n",
       "      <td>https://dermnetnz.org/assets/Uploads/xeroderma...</td>\n",
       "    </tr>\n",
       "  </tbody>\n",
       "</table>\n",
       "<p>294 rows × 3 columns</p>\n",
       "</div>"
      ],
      "text/plain": [
       "                                              Disease  \\\n",
       "0                      Acne affecting the back images   \n",
       "1                      Acne affecting the face images   \n",
       "2           Acne and other follicular disorder images   \n",
       "3    Acquired dermal macular hyperpigmentation images   \n",
       "4                   Acral lentiginous melanoma images   \n",
       "..                                                ...   \n",
       "289                    Vulval lichen sclerosus images   \n",
       "290                               Vulval ulcer images   \n",
       "291                   Vulvovaginal candidiasis images   \n",
       "292                                Xanthelasma images   \n",
       "293                      Xeroderma pigmentosum images   \n",
       "\n",
       "                                           Disease_URL  \\\n",
       "0    https://dermnetnz.org/topics/acne-affecting-th...   \n",
       "1        https://dermnetnz.org/topics/acne-face-images   \n",
       "2    https://dermnetnz.org/image-catalogue/acne-and...   \n",
       "3    https://dermnetnz.org/topics/acquired-dermal-m...   \n",
       "4    https://dermnetnz.org/topics/acral-lentiginous...   \n",
       "..                                                 ...   \n",
       "289  https://dermnetnz.org/topics/vulval-lichen-scl...   \n",
       "290   https://dermnetnz.org/topics/vulval-ulcer-images   \n",
       "291  https://dermnetnz.org/topics/vulvovaginal-cand...   \n",
       "292    https://dermnetnz.org/topics/xanthelasma-images   \n",
       "293  https://dermnetnz.org/topics/xeroderma-pigment...   \n",
       "\n",
       "                                         thumbnail_URL  \n",
       "0    https://dermnetnz.org/assets/manualthumbnails/...  \n",
       "1    https://dermnetnz.org/assets/Uploads/Screen-Sh...  \n",
       "2    https://dermnetnz.org/assets/Uploads/ocular-ro...  \n",
       "3    https://dermnetnz.org/assets/Uploads/scaly/lp-...  \n",
       "4    https://dermnetnz.org/assets/Uploads/20160516-...  \n",
       "..                                                 ...  \n",
       "289  https://dermnetnz.org/assets/Uploads/074__Focu...  \n",
       "290  https://dermnetnz.org/assets/Uploads/vulval-ul...  \n",
       "291  https://dermnetnz.org/assets/Uploads/candida2-...  \n",
       "292  https://dermnetnz.org/assets/Uploads/xanthelas...  \n",
       "293  https://dermnetnz.org/assets/Uploads/xeroderma...  \n",
       "\n",
       "[294 rows x 3 columns]"
      ]
     },
     "execution_count": 7,
     "metadata": {},
     "output_type": "execute_result"
    }
   ],
   "source": [
    "df"
   ]
  },
  {
   "cell_type": "markdown",
   "id": "94aa8ce9",
   "metadata": {},
   "source": [
    "# Saving the data to csv file"
   ]
  },
  {
   "cell_type": "code",
   "execution_count": 8,
   "id": "988a4ff8",
   "metadata": {},
   "outputs": [],
   "source": [
    "df.to_csv('Diseases`_scrapped.csv')"
   ]
  },
  {
   "cell_type": "code",
   "execution_count": null,
   "id": "b477ffc2",
   "metadata": {},
   "outputs": [],
   "source": []
  }
 ],
 "metadata": {
  "kernelspec": {
   "display_name": "Python 3",
   "language": "python",
   "name": "python3"
  },
  "language_info": {
   "codemirror_mode": {
    "name": "ipython",
    "version": 3
   },
   "file_extension": ".py",
   "mimetype": "text/x-python",
   "name": "python",
   "nbconvert_exporter": "python",
   "pygments_lexer": "ipython3",
   "version": "3.8.8"
  }
 },
 "nbformat": 4,
 "nbformat_minor": 5
}
