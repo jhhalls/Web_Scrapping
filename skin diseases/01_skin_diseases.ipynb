{
 "cells": [
  {
   "cell_type": "code",
   "execution_count": 1,
   "id": "001b10cd",
   "metadata": {},
   "outputs": [],
   "source": [
    "I = [3,0,8,1,6,7,1,3,1,9,0,1]\n",
    "O = [1,1,1,1,3,3,0,0,8,6,7,9]"
   ]
  },
  {
   "cell_type": "code",
   "execution_count": null,
   "id": "0d410767",
   "metadata": {},
   "outputs": [],
   "source": [
    "I = [5,8,4,8,9,5,6,5]\n",
    "o = [5,5,5,8,8,4,9,6]"
   ]
  },
  {
   "cell_type": "code",
   "execution_count": 2,
   "id": "99efea12",
   "metadata": {},
   "outputs": [],
   "source": [
    "from collections import Counter"
   ]
  },
  {
   "cell_type": "code",
   "execution_count": 27,
   "id": "0a97f9ed",
   "metadata": {},
   "outputs": [],
   "source": [
    "# sum(I)"
   ]
  },
  {
   "cell_type": "code",
   "execution_count": 32,
   "id": "19d6d902",
   "metadata": {},
   "outputs": [
    {
     "name": "stdout",
     "output_type": "stream",
     "text": [
      "{3: 2, 0: 2, 8: 1, 1: 4, 6: 1, 7: 1, 9: 1}\n"
     ]
    }
   ],
   "source": [
    "# count = 0\n",
    "dictionary = {}\n",
    "for i in I:\n",
    "    count = 0\n",
    "    for j in I:\n",
    "        if i==j:\n",
    "            count = count + 1\n",
    "            dictionary[i] = count\n",
    "        else:\n",
    "            pass\n",
    "            \n",
    "#     dictionary.key = i\n",
    "#     dictionary[i] = count \n",
    "# print(count)\n",
    "print(dictionary)    "
   ]
  },
  {
   "cell_type": "code",
   "execution_count": 32,
   "id": "07932df7",
   "metadata": {},
   "outputs": [
    {
     "name": "stdout",
     "output_type": "stream",
     "text": [
      "{3: 2, 0: 2, 8: 1, 1: 4, 6: 1, 7: 1, 9: 1}\n"
     ]
    }
   ],
   "source": [
    "# count = 0\n",
    "dictionary = {}\n",
    "for i in I:\n",
    "    count = 0\n",
    "    for j in I:\n",
    "        if i==j:\n",
    "            count = count + 1\n",
    "            dictionary[i] = count\n",
    "        else:\n",
    "            pass\n",
    "        \n",
    "        \n",
    "#     dictionary.key = i\n",
    "#     dictionary[i] = count \n",
    "# print(count)\n",
    "print(dictionary)    "
   ]
  },
  {
   "cell_type": "code",
   "execution_count": 51,
   "id": "dffe682e",
   "metadata": {},
   "outputs": [
    {
     "data": {
      "text/plain": [
       "dict_keys([3, 0, 8, 1, 6, 7, 9])"
      ]
     },
     "execution_count": 51,
     "metadata": {},
     "output_type": "execute_result"
    }
   ],
   "source": [
    "dictionary.keys()"
   ]
  },
  {
   "cell_type": "code",
   "execution_count": 53,
   "id": "22ecc17a",
   "metadata": {},
   "outputs": [
    {
     "data": {
      "text/plain": [
       "dict_items([(3, 2), (0, 2), (8, 1), (1, 4), (6, 1), (7, 1), (9, 1)])"
      ]
     },
     "execution_count": 53,
     "metadata": {},
     "output_type": "execute_result"
    }
   ],
   "source": [
    "dictionary.items()"
   ]
  },
  {
   "cell_type": "code",
   "execution_count": 69,
   "id": "260c47a9",
   "metadata": {},
   "outputs": [],
   "source": [
    "dict2 = {}\n",
    "for i,j in dictionary.items():\n",
    "    for k,l in dictionary.items():\n",
    "        if j>l:\n",
    "            dict2[i] = j  \n",
    "        else: \n",
    "            dict2[i] = l"
   ]
  },
  {
   "cell_type": "code",
   "execution_count": 79,
   "id": "e81ec674",
   "metadata": {},
   "outputs": [
    {
     "data": {
      "text/plain": [
       "dict_values([2, 2, 1, 4, 1, 1, 1])"
      ]
     },
     "execution_count": 79,
     "metadata": {},
     "output_type": "execute_result"
    }
   ],
   "source": [
    "dictionary.values()"
   ]
  },
  {
   "cell_type": "code",
   "execution_count": 73,
   "id": "4862144a",
   "metadata": {},
   "outputs": [],
   "source": [
    "dict3=[]\n",
    "for i in dictionary.values():\n",
    "    for k in dictionary.values():\n",
    "        if i>k:\n",
    "            dict3.append(i)  \n",
    "        else: \n",
    "            pass"
   ]
  },
  {
   "cell_type": "code",
   "execution_count": 74,
   "id": "42ab3bb8",
   "metadata": {},
   "outputs": [
    {
     "data": {
      "text/plain": [
       "[2, 2, 2, 2, 2, 2, 2, 2, 4, 4, 4, 4, 4, 4]"
      ]
     },
     "execution_count": 74,
     "metadata": {},
     "output_type": "execute_result"
    }
   ],
   "source": [
    "dict3"
   ]
  },
  {
   "cell_type": "code",
   "execution_count": 70,
   "id": "3cfb52ab",
   "metadata": {},
   "outputs": [
    {
     "data": {
      "text/plain": [
       "{3: 1, 0: 1, 8: 1, 1: 1, 6: 1, 7: 1, 9: 1}"
      ]
     },
     "execution_count": 70,
     "metadata": {},
     "output_type": "execute_result"
    }
   ],
   "source": [
    "dict2"
   ]
  },
  {
   "cell_type": "code",
   "execution_count": 60,
   "id": "70da8794",
   "metadata": {},
   "outputs": [
    {
     "data": {
      "text/plain": [
       "{3: 2, 0: 2, 8: 1, 1: 4, 6: 1, 7: 1, 9: 1}"
      ]
     },
     "execution_count": 60,
     "metadata": {},
     "output_type": "execute_result"
    }
   ],
   "source": [
    "dictionary"
   ]
  },
  {
   "cell_type": "code",
   "execution_count": 54,
   "id": "cb6b949c",
   "metadata": {},
   "outputs": [
    {
     "name": "stdout",
     "output_type": "stream",
     "text": [
      "3 2\n",
      "0 2\n",
      "8 1\n",
      "1 4\n",
      "6 1\n",
      "7 1\n",
      "9 1\n"
     ]
    }
   ],
   "source": [
    "for i,j in dictionary.items():\n",
    "#     print(i,j)\n",
    "    if j<j+1:\n",
    "        "
   ]
  },
  {
   "cell_type": "code",
   "execution_count": null,
   "id": "1c2057e2",
   "metadata": {},
   "outputs": [],
   "source": [
    "\n"
   ]
  },
  {
   "cell_type": "code",
   "execution_count": null,
   "id": "406ca1cb",
   "metadata": {},
   "outputs": [],
   "source": [
    "def func(input1):\n",
    "    c = Counter(input1)\n",
    "    for i in c:\n",
    "        "
   ]
  }
 ],
 "metadata": {
  "kernelspec": {
   "display_name": "Python 3",
   "language": "python",
   "name": "python3"
  },
  "language_info": {
   "codemirror_mode": {
    "name": "ipython",
    "version": 3
   },
   "file_extension": ".py",
   "mimetype": "text/x-python",
   "name": "python",
   "nbconvert_exporter": "python",
   "pygments_lexer": "ipython3",
   "version": "3.8.8"
  }
 },
 "nbformat": 4,
 "nbformat_minor": 5
}
